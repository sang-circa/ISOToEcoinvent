{
 "cells": [
  {
   "cell_type": "code",
   "execution_count": 1,
   "metadata": {},
   "outputs": [],
   "source": [
    "from normality import normalize\n",
    "import pandas as pd\n",
    "from thefuzz import fuzz\n",
    "from thefuzz import process\n",
    "from countrynames import to_code\n",
    "import os\n",
    "import shutil\n",
    "import datetime\n"
   ]
  },
  {
   "cell_type": "code",
   "execution_count": 2,
   "metadata": {},
   "outputs": [],
   "source": [
    "\n",
    "\n",
    "\n",
    "csv_to_fix = \"ProductionTradeSupplyFuelOil_EF_20240603.csv\"\n",
    "\n",
    "now = datetime.datetime.now()\n",
    "formatted_date = now.strftime(\"%Y%m%d\")\n",
    "folder_path = \"%s_Country_Renamed_%s\" %(csv_to_fix.split(\"_\")[0], formatted_date)\n",
    "os.makedirs(folder_path)\n",
    "geo_df = pd.read_csv(\"./ISOToEcoInventToolSub/Geographies.csv\")\n",
    "df = pd.read_csv(csv_to_fix)\n",
    "\n"
   ]
  },
  {
   "cell_type": "code",
   "execution_count": 3,
   "metadata": {},
   "outputs": [
    {
     "data": {
      "text/plain": [
       "array(['Madagascar', 'Malawi', 'Malaysia', 'Mali', 'Martinique',\n",
       "       'Mauritania', 'Mauritius', 'Pakistan', 'Palau', 'Panama',\n",
       "       'Papua New Guinea', 'Paraguay', 'Morocco', 'Mozambique', 'Myanmar',\n",
       "       'Peru', 'Philippines', 'New Caledonia', 'New Zealand', 'Nicaragua',\n",
       "       'Niger', 'Nigeria', 'Senegal', 'Serbia', 'Serbia and Montenegro',\n",
       "       'Seychelles', 'Sierra Leone', 'Singapore', 'Slovakia', 'Slovenia',\n",
       "       'Sint Maarten (Dutch part)', 'Romania', 'Russian Federation',\n",
       "       'Rwanda', 'Saudi Arabia', 'Indonesia', 'India', 'Iceland',\n",
       "       'Ireland', 'Isle of Man', 'Israel', 'Italy',\n",
       "       \"Korea, Dem.Ppl's.Rep.\", 'Korea, Republic of', 'Kosovo', 'Iraq',\n",
       "       'Argentina', 'Armenia', 'Aruba', 'Antigua and Barbuda',\n",
       "       'Afghanistan', 'Albania', 'Belgium', 'Belize', 'Benin', 'Angola',\n",
       "       'Austria', 'Azerbaijan', 'Bahamas', 'Bahrain', 'Bangladesh',\n",
       "       'Belarus', 'Guatemala', 'Guernsey', 'Guinea', 'Guinea-Bissau',\n",
       "       'Guyana', 'Guadeloupe', 'Haiti', 'United Kingdom',\n",
       "       'United Rep. of Tanzania', 'United States', 'Yemen',\n",
       "       'Yugoslavia, SFR (former)', 'Zambia', 'Viet Nam',\n",
       "       'Yemen Arab Rep. (former)', 'Venezuela (Bolivar. Rep.)',\n",
       "       'Other Asia', 'North Macedonia', 'Norway', 'Oman', 'Poland',\n",
       "       'Portugal', 'Namibia', 'Nepal', 'Neth. Antilles (former)',\n",
       "       'Netherlands', 'Montenegro', 'Chile', 'China',\n",
       "       'China, Hong Kong SAR', 'China, Macao SAR', 'Colombia', 'Congo',\n",
       "       'Cook Islands', 'Costa Rica', 'Australia', 'Cambodia', 'Cameroon',\n",
       "       'Canada', 'Brazil', 'Brunei Darussalam', 'Bulgaria',\n",
       "       'Burkina Faso', 'Burundi', 'Central African Rep.', 'Chad',\n",
       "       'Uganda', 'Ukraine', 'Finland', 'United Arab Emirates', 'France',\n",
       "       'Turkey', 'Turkmenistan', 'Ecuador', 'Egypt', 'El Salvador',\n",
       "       'Eritrea', 'Estonia', 'Puerto Rico', 'Qatar',\n",
       "       'Republic of Moldova', 'Greece', 'Greenland', 'Grenada', 'Japan',\n",
       "       'Jersey', 'Jordan', 'Kazakhstan', 'Kenya', 'Uruguay', 'Uzbekistan',\n",
       "       'Vanuatu', 'USSR (former)', \"Lao People's Dem. Rep.\", 'Latvia',\n",
       "       'Malta', 'Lebanon', 'Liberia', 'Libya', 'Lithuania', 'Mexico',\n",
       "       'Luxembourg', 'Mongolia', 'Kuwait', 'Kyrgyzstan', 'Reunion',\n",
       "       'Trinidad and Tobago', 'Tunisia', 'Nauru', 'Barbados',\n",
       "       'Faeroe Islands', 'Fiji', 'Ethiopia', 'Ethiopia, incl. Eritrea',\n",
       "       'Eswatini', 'Suriname', 'Sweden', 'Switzerland',\n",
       "       'Syrian Arab Republic', 'Tajikistan', 'Thailand', 'Togo', 'Tonga',\n",
       "       'Georgia', 'German Dem. R. (former)', 'Germany',\n",
       "       'Germany, Fed. R. (former)', 'Ghana', 'Gibraltar', 'Gabon',\n",
       "       'Gambia', 'Iran (Islamic Rep. of)', 'Dominica',\n",
       "       'Dominican Republic', 'Denmark', 'French Guiana',\n",
       "       'French Polynesia', 'Jamaica', 'Spain', 'Sri Lanka', 'St. Lucia',\n",
       "       'State of Palestine', 'Sudan', 'Sudan (former)',\n",
       "       'Yemen, Dem. (former)', 'Czechia', 'Czechoslovakia (former)',\n",
       "       'Dem. Rep. of the Congo', 'Djibouti', 'Honduras', 'Hungary',\n",
       "       'South Africa', 'Somalia', 'Algeria', 'American Samoa', 'Cuba',\n",
       "       'Curacao', 'Cyprus', 'Bonaire, St Eustatius, Saba',\n",
       "       'Bosnia and Herzegovina', 'Bermuda', 'Bhutan',\n",
       "       'Bolivia (Plur. State of)', 'Cabo Verde', 'Croatia', 'Ivory Coast',\n",
       "       'Botswana'], dtype=object)"
      ]
     },
     "execution_count": 3,
     "metadata": {},
     "output_type": "execute_result"
    }
   ],
   "source": [
    "df['Region/Regional Scope'].unique()\n",
    "# df['Country of Applicability'] = \"GLO\"\n",
    "# df.to_csv(\"./%s/%s.csv\"  %(folder_path, folder_path), index=False)"
   ]
  },
  {
   "cell_type": "code",
   "execution_count": 4,
   "metadata": {},
   "outputs": [
    {
     "name": "stderr",
     "output_type": "stream",
     "text": [
      "/var/folders/7z/6g3hfctx56g77d9vf2r0bbx00000gn/T/ipykernel_66539/140740927.py:3: ICUWarning: Install 'pyicu' for better text transliteration.\n",
      "  return normalize(country, latinize=True)\n"
     ]
    }
   ],
   "source": [
    "def normalize_name(country):\n",
    "    \"\"\"Clean up a country name before comparison.\"\"\"\n",
    "    return normalize(country, latinize=True)\n",
    "\n",
    "df_ambig = pd.DataFrame(columns=[\"Input string\", \"Mapped name\", \"Mapped code\", \"Quarantine?\"])\n",
    "\n",
    "def mapping(country:str)->str:\n",
    "    global df_ambig\n",
    "    if(result:=to_code(country)) is not None:\n",
    "        return result\n",
    "    matching_rows = df_ambig[df_ambig[\"Input string\"].str.contains(country, case=False, na=False)]\n",
    "    if not matching_rows.empty:\n",
    "        return country\n",
    "    else:\n",
    "        longname = process.extractOne(country, choices=geo_df['Name'], processor=(lambda x: str(x)), scorer=fuzz.token_set_ratio, score_cutoff=0)[0]\n",
    "        shortname = geo_df[geo_df['Name'] == longname]['Shortname'].iloc[0]\n",
    "        new_row = pd.DataFrame([{ \n",
    "            \"Input string\": country,\n",
    "            \"Mapped name\": longname,\n",
    "            \"Mapped code\": shortname}])\n",
    "        df_ambig = pd.concat([df_ambig, new_row], ignore_index=True)\n",
    "        return country\n",
    "    \n",
    "Region_column_name = 'Region/Regional Scope'\n",
    "df[Region_column_name] = df[Region_column_name].apply(normalize_name)\n",
    "df[Region_column_name] =df[Region_column_name].apply(lambda x: mapping(x))\n",
    "\n",
    "df_ambig.to_csv(\"ambig.csv\", index=False)\n",
    "df_ambig.to_csv(\"./%s/AMBIG_%s.csv\" %(folder_path, folder_path), index=False)\n"
   ]
  },
  {
   "cell_type": "code",
   "execution_count": 35,
   "metadata": {},
   "outputs": [
    {
     "data": {
      "text/plain": [
       "''"
      ]
     },
     "execution_count": 35,
     "metadata": {},
     "output_type": "execute_result"
    }
   ],
   "source": [
    "input(\"Go to ambig.csv and correct ambiguous inputs\")"
   ]
  },
  {
   "cell_type": "code",
   "execution_count": null,
   "metadata": {},
   "outputs": [],
   "source": []
  },
  {
   "cell_type": "code",
   "execution_count": 5,
   "metadata": {},
   "outputs": [],
   "source": [
    "def split_ambig():\n",
    "    ambig = pd.read_csv('./ambig.csv')\n",
    "    if ambig.empty:\n",
    "        return ambig, ambig\n",
    "    corrected = ambig[ambig['Quarantine?'] != 'x']\n",
    "    further_quarantined = ambig[ambig['Quarantine?'] == 'x']\n",
    "    return corrected, further_quarantined\n",
    "\n",
    "def remove_quarantined(df_first_clean, further_quarantined, corrected):\n",
    "    overlap_values = further_quarantined['Input string'].unique()\n",
    "    removed_rows_df = df_first_clean[df_first_clean['Region/Regional Scope'].isin(overlap_values)].copy()\n",
    "    df_second_clean = df_first_clean[~df_first_clean['Region/Regional Scope'].isin(overlap_values)]\n",
    "    \n",
    "    merged_df = pd.merge(df_second_clean, corrected, left_on='Region/Regional Scope', right_on='Input string', how='left')\n",
    "    merged_df.loc[merged_df['Input string'].notna(), 'Region/Regional Scope'] = merged_df['Mapped code']\n",
    "    merged_df.drop(columns=['Mapped code', \"Input string\",\"Mapped name\",\"Quarantine?\"], inplace=True)\n",
    "    \n",
    "    file_path = \"./ambig.csv\"\n",
    "    if os.path.exists(file_path):\n",
    "        shutil.move(file_path, \"./%s/ambig_VERIFIED_%s.csv\" % (folder_path, folder_path))\n",
    "    return merged_df, removed_rows_df\n",
    "\n",
    "\n",
    "\n",
    "corrected, further_quarantined = split_ambig()\n",
    "merged_df, removed_rows_df =remove_quarantined(df, further_quarantined, corrected)\n",
    "\n",
    "\n"
   ]
  },
  {
   "cell_type": "code",
   "execution_count": 6,
   "metadata": {},
   "outputs": [
    {
     "name": "stdout",
     "output_type": "stream",
     "text": [
      "['MG' 'MW' 'MY' 'ML' 'MQ' 'MR' 'MU' 'PK' 'PW' 'PA' 'PG' 'PY' 'MA' 'MZ'\n",
      " 'MM' 'PE' 'PH' 'NC' 'NZ' 'NI' 'NE' 'NG' 'SN' 'RS' 'CSXX' 'SC' 'SL' 'SG'\n",
      " 'SK' 'SI' 'SX' 'RO' 'RU' 'RW' 'SA' 'ID' 'IN' 'IS' 'IE' 'IM' 'IL' 'IT'\n",
      " 'KP' 'KR' 'XK' 'IQ' 'AR' 'AM' 'AW' 'AG' 'AF' 'AL' 'BE' 'BZ' 'BJ' 'AO'\n",
      " 'AT' 'AZ' 'BS' 'BH' 'BD' 'BY' 'GT' 'GG' 'GN' 'GW' 'GY' 'GP' 'HT' 'GB'\n",
      " 'TZ' 'US' 'YE' 'ZM' 'VN' 'VE' 'RAS' 'MK' 'NO' 'OM' 'PL' 'PT' 'NA' 'NP'\n",
      " ' CS' 'NL' 'ME' 'CL' 'CN' 'HK' 'MO' 'CO' 'CG' 'CK' 'CR' 'AU' 'KH' 'CM'\n",
      " 'CA' 'BR' 'BN' 'BG' 'BF' 'BI' 'CF' 'TD' 'UG' 'UA' 'FI' 'AE' 'FR' 'TR'\n",
      " 'TM' 'EC' 'EG' 'SV' 'ER' 'EE' 'PR' 'QA' 'MD' 'GR' 'GL' 'GD' 'JP' 'JE'\n",
      " 'JO' 'KZ' 'KE' 'UY' 'UZ' 'VU' ' CSRR' 'LA' 'LV' 'MT' 'LB' 'LR' 'LY' 'LT'\n",
      " 'MX' 'LU' 'MN' 'KW' 'KG' 'RE' 'TT' 'TN' 'NR' 'BB' 'FO' 'FJ' 'ET' 'SZ'\n",
      " 'SR' 'SE' 'CH' 'SY' 'TJ' 'TH' 'TG' 'TO' 'GE' ' DD' 'DE' 'GH' 'GI' 'GA'\n",
      " 'GM' 'IR' 'DM' 'DO' 'DK' 'GF' 'PF' 'JM' 'ES' 'LK' 'LC' 'PS' 'SD' 'CZ'\n",
      " 'CD' 'DJ' 'HN' 'HU' 'ZA' 'SO' 'DZ' 'AS' 'CU' 'CW' 'CY' 'BQ' 'BA' 'BM'\n",
      " 'BT' 'BO' 'CV' 'HR' 'CI' 'BW']\n",
      "['yugoslavia sfr former']\n"
     ]
    }
   ],
   "source": [
    "# In this cell, please add any code you'd like to edit \n",
    "print(merged_df['Region/Regional Scope'].unique())\n",
    "print(removed_rows_df['Region/Regional Scope'].unique())\n"
   ]
  },
  {
   "cell_type": "code",
   "execution_count": 27,
   "metadata": {},
   "outputs": [
    {
     "data": {
      "text/plain": [
       "''"
      ]
     },
     "execution_count": 27,
     "metadata": {},
     "output_type": "execute_result"
    }
   ],
   "source": [
    "input(\"Look through each dataset and adjust any inconsistent values\")\n",
    "\n",
    "\n"
   ]
  },
  {
   "cell_type": "code",
   "execution_count": null,
   "metadata": {},
   "outputs": [],
   "source": []
  },
  {
   "cell_type": "code",
   "execution_count": 53,
   "metadata": {},
   "outputs": [],
   "source": [
    "removed_rows_df.to_csv(\"./%s/%s_further_quarantined.csv\" %(folder_path, folder_path), index=False) \n",
    "merged_df.to_csv(\"./%s/%s.csv\"  %(folder_path, folder_path), index=False)\n"
   ]
  },
  {
   "cell_type": "code",
   "execution_count": 54,
   "metadata": {},
   "outputs": [],
   "source": [
    "shutil.copy(\"./Nationalizer.ipynb\", \"%s\" % folder_path)\n",
    "shutil.move(csv_to_fix, \"%s\" % folder_path)\n",
    "shutil.make_archive(folder_path.split('.')[0], 'zip', folder_path)\n",
    "shutil.rmtree(folder_path)\n"
   ]
  },
  {
   "cell_type": "code",
   "execution_count": null,
   "metadata": {},
   "outputs": [],
   "source": []
  }
 ],
 "metadata": {
  "kernelspec": {
   "display_name": "base",
   "language": "python",
   "name": "python3"
  },
  "language_info": {
   "codemirror_mode": {
    "name": "ipython",
    "version": 3
   },
   "file_extension": ".py",
   "mimetype": "text/x-python",
   "name": "python",
   "nbconvert_exporter": "python",
   "pygments_lexer": "ipython3",
   "version": "3.12.3"
  }
 },
 "nbformat": 4,
 "nbformat_minor": 2
}
