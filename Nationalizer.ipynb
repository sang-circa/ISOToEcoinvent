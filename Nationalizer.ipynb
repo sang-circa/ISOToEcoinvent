{
 "cells": [
  {
   "cell_type": "code",
   "execution_count": 2,
   "metadata": {},
   "outputs": [],
   "source": [
    "from normality import normalize\n",
    "import pandas as pd\n",
    "from thefuzz import fuzz\n",
    "from thefuzz import process\n",
    "from countrynames import to_code\n",
    "import os\n",
    "import shutil\n",
    "import datetime\n"
   ]
  },
  {
   "cell_type": "code",
   "execution_count": 3,
   "metadata": {},
   "outputs": [],
   "source": [
    "\n",
    "\n",
    "\n",
    "csv_to_fix = \"edgar.csv\"\n",
    "\n",
    "now = datetime.datetime.now()\n",
    "formatted_date = now.strftime(\"%Y%m%d\")\n",
    "folder_path = \"%s_Country_Renamed_%s\" %(csv_to_fix.split(\"_\")[0], formatted_date)\n",
    "os.makedirs(folder_path)\n",
    "geo_df = pd.read_csv(\"./ISOToEcoInventToolSub/Geographies.csv\")\n",
    "df = pd.read_csv(csv_to_fix)\n",
    "\n"
   ]
  },
  {
   "cell_type": "code",
   "execution_count": 4,
   "metadata": {},
   "outputs": [
    {
     "data": {
      "text/plain": [
       "array(['Malta', 'Myanmar', 'Mongolia', 'Mozambique', 'Mauritania',\n",
       "       'Martinique', 'Mauritius', 'Malawi', 'Malaysia', 'Namibia',\n",
       "       'New Caledonia', 'Niger', 'Guinea', 'Guadeloupe', 'Gambia',\n",
       "       'Guinea-Bissau', 'Equatorial Guinea', 'Greece', 'Grenada',\n",
       "       'Greenland', 'Guatemala', 'French Guiana', 'Guyana', 'Hong Kong',\n",
       "       'Honduras', 'Seychelles', 'Syrian Arab Republic',\n",
       "       'Turks and Caicos Islands', 'Chad', 'Togo', 'Thailand',\n",
       "       'Tajikistan', 'Turkmenistan', 'Timor-Leste', 'Tonga',\n",
       "       'Trinidad and Tobago', 'Tunisia', 'Nigeria', 'Nicaragua',\n",
       "       'Netherlands', 'Sierra Leone', 'El Salvador', 'Somalia',\n",
       "       'Saint Pierre and Miquelon', 'Sao Tome and Principe', 'Suriname',\n",
       "       'Slovakia', 'Slovenia', 'Sweden', 'Swaziland', 'Papua New Guinea',\n",
       "       'Poland', 'Puerto Rico', 'Portugal', 'Paraguay',\n",
       "       'French Polynesia', 'Qatar', 'Reunion', 'Romania',\n",
       "       'Russian Federation', 'Rwanda', 'Saudi Arabia',\n",
       "       'Serbia and Montenegro', 'Sudan', 'Int. Shipping', 'Senegal',\n",
       "       'Singapore', 'Saint Helena', 'Solomon Islands',\n",
       "       'Moldova, Republic of', 'Madagascar', 'Maldives', 'Mexico',\n",
       "       'Macedonia, the former Yugoslav Republic of', 'Mali', 'Norway',\n",
       "       'Nepal', 'New Zealand', 'Oman', 'Pakistan', 'Panama', 'Peru',\n",
       "       'Philippines', 'Palau', 'Liberia', 'Libyan Arab Jamahiriya',\n",
       "       'Saint Lucia', 'Sri Lanka', 'Lesotho', 'Lithuania', 'Luxembourg',\n",
       "       'Latvia', 'Macao', 'Morocco', 'United Kingdom', 'Georgia', 'Ghana',\n",
       "       'Gibraltar', 'Botswana', 'Central African Republic', 'Canada',\n",
       "       'Switzerland', 'Chile', 'China', \"Cote d'Ivoire\", 'Cameroon',\n",
       "       'Congo_the Democratic Republic of the', 'Congo', 'Djibouti',\n",
       "       'Dominica', 'Denmark', 'Dominican Republic', 'Algeria', 'Ecuador',\n",
       "       'Egypt', 'Eritrea', 'Western Sahara', 'Spain', 'Cook Islands',\n",
       "       'Colombia', 'Comoros', 'Cape Verde', 'Costa Rica', 'Cuba',\n",
       "       'Cayman Islands', 'Cyprus', 'Czech Republic', 'Germany', 'Estonia',\n",
       "       'Ethiopia', 'Finland', 'Fiji', 'Falkland Islands (Malvinas)',\n",
       "       'France', 'Faroe Islands', 'Gabon', 'India', 'Ireland',\n",
       "       'Iran, Islamic Republic of', 'Iraq', 'Iceland', 'Israel', 'Italy',\n",
       "       'Jamaica', 'Jordan', 'Japan', 'Bahamas', 'Bosnia and Herzegovina',\n",
       "       'Belarus', 'Belize', 'Bermuda', 'Bolivia', 'Brazil', 'Barbados',\n",
       "       'Brunei Darussalam', 'Bhutan', 'Austria', 'Azerbaijan', 'Burundi',\n",
       "       'Belgium', 'Benin', 'Burkina Faso', 'Bangladesh', 'Bulgaria',\n",
       "       'Bahrain', 'Croatia', 'Haiti', 'Hungary', 'Indonesia',\n",
       "       'Saint Vincent and the Grenadines', 'Venezuela',\n",
       "       'Virgin Islands_British', 'Viet Nam', 'Vanuatu', 'Samoa', 'Yemen',\n",
       "       'South Africa', 'Zambia', 'Zimbabwe', 'Aruba', 'Afghanistan',\n",
       "       'Angola', 'Anguilla', 'Int. Aviation', 'Albania',\n",
       "       'Netherlands Antilles', 'United Arab Emirates', 'Argentina',\n",
       "       'Armenia', 'Antigua and Barbuda', 'Australia',\n",
       "       \"Korea, Democratic People's Republic of\", 'Turkey',\n",
       "       'Taiwan_Province of China', 'Tanzania_United Republic of',\n",
       "       'Uganda', 'Ukraine', 'Uruguay', 'United States', 'Uzbekistan',\n",
       "       'Kiribati', 'Saint Kitts and Nevis', 'Korea, Republic of',\n",
       "       'Kuwait', \"Lao People's Democratic Republic\", 'Lebanon',\n",
       "       'Kazakhstan', 'Kenya', 'Kyrgyzstan', 'Cambodia'], dtype=object)"
      ]
     },
     "execution_count": 4,
     "metadata": {},
     "output_type": "execute_result"
    }
   ],
   "source": [
    "df['Region/Regional Scope'].unique()\n",
    "# df['Country of Applicability'] = \"GLO\"\n",
    "# df.to_csv(\"./%s/%s.csv\"  %(folder_path, folder_path), index=False)"
   ]
  },
  {
   "cell_type": "code",
   "execution_count": 5,
   "metadata": {},
   "outputs": [
    {
     "name": "stderr",
     "output_type": "stream",
     "text": [
      "/var/folders/7z/6g3hfctx56g77d9vf2r0bbx00000gn/T/ipykernel_30150/140740927.py:3: ICUWarning: Install 'pyicu' for better text transliteration.\n",
      "  return normalize(country, latinize=True)\n"
     ]
    }
   ],
   "source": [
    "def normalize_name(country):\n",
    "    \"\"\"Clean up a country name before comparison.\"\"\"\n",
    "    return normalize(country, latinize=True)\n",
    "\n",
    "df_ambig = pd.DataFrame(columns=[\"Input string\", \"Mapped name\", \"Mapped code\", \"Quarantine?\"])\n",
    "\n",
    "def mapping(country:str)->str:\n",
    "    global df_ambig\n",
    "    if(result:=to_code(country)) is not None:\n",
    "        return result\n",
    "    matching_rows = df_ambig[df_ambig[\"Input string\"].str.contains(country, case=False, na=False)]\n",
    "    if not matching_rows.empty:\n",
    "        return country\n",
    "    else:\n",
    "        longname = process.extractOne(country, choices=geo_df['Name'], processor=(lambda x: str(x)), scorer=fuzz.token_set_ratio, score_cutoff=0)[0]\n",
    "        shortname = geo_df[geo_df['Name'] == longname]['Shortname'].iloc[0]\n",
    "        new_row = pd.DataFrame([{ \n",
    "            \"Input string\": country,\n",
    "            \"Mapped name\": longname,\n",
    "            \"Mapped code\": shortname}])\n",
    "        df_ambig = pd.concat([df_ambig, new_row], ignore_index=True)\n",
    "        return country\n",
    "    \n",
    "Region_column_name = 'Region/Regional Scope'\n",
    "df[Region_column_name] = df[Region_column_name].apply(normalize_name)\n",
    "df[Region_column_name] =df[Region_column_name].apply(lambda x: mapping(x))\n",
    "\n",
    "df_ambig.to_csv(\"ambig.csv\", index=False)\n",
    "df_ambig.to_csv(\"./%s/AMBIG_%s.csv\" %(folder_path, folder_path), index=False)\n"
   ]
  },
  {
   "cell_type": "code",
   "execution_count": 35,
   "metadata": {},
   "outputs": [
    {
     "data": {
      "text/plain": [
       "''"
      ]
     },
     "execution_count": 35,
     "metadata": {},
     "output_type": "execute_result"
    }
   ],
   "source": [
    "input(\"Go to ambig.csv and correct ambiguous inputs\")"
   ]
  },
  {
   "cell_type": "code",
   "execution_count": null,
   "metadata": {},
   "outputs": [],
   "source": []
  },
  {
   "cell_type": "code",
   "execution_count": 6,
   "metadata": {},
   "outputs": [],
   "source": [
    "def split_ambig():\n",
    "    ambig = pd.read_csv('./ambig.csv')\n",
    "    if ambig.empty:\n",
    "        return ambig, ambig\n",
    "    corrected = ambig[ambig['Quarantine?'] != 'x']\n",
    "    further_quarantined = ambig[ambig['Quarantine?'] == 'x']\n",
    "    return corrected, further_quarantined\n",
    "\n",
    "def remove_quarantined(df_first_clean, further_quarantined, corrected):\n",
    "    overlap_values = further_quarantined['Input string'].unique()\n",
    "    removed_rows_df = df_first_clean[df_first_clean['Region/Regional Scope'].isin(overlap_values)].copy()\n",
    "    df_second_clean = df_first_clean[~df_first_clean['Region/Regional Scope'].isin(overlap_values)]\n",
    "    \n",
    "    merged_df = pd.merge(df_second_clean, corrected, left_on='Region/Regional Scope', right_on='Input string', how='left')\n",
    "    merged_df.loc[merged_df['Input string'].notna(), 'Region/Regional Scope'] = merged_df['Mapped code']\n",
    "    merged_df.drop(columns=['Mapped code', \"Input string\",\"Mapped name\",\"Quarantine?\"], inplace=True)\n",
    "    \n",
    "    file_path = \"./ambig.csv\"\n",
    "    if os.path.exists(file_path):\n",
    "        shutil.move(file_path, \"./%s/ambig_VERIFIED_%s.csv\" % (folder_path, folder_path))\n",
    "    return merged_df, removed_rows_df\n",
    "\n",
    "\n",
    "\n",
    "corrected, further_quarantined = split_ambig()\n",
    "merged_df, removed_rows_df =remove_quarantined(df, further_quarantined, corrected)\n",
    "\n",
    "\n"
   ]
  },
  {
   "cell_type": "code",
   "execution_count": 7,
   "metadata": {},
   "outputs": [
    {
     "name": "stdout",
     "output_type": "stream",
     "text": [
      "['MT' 'MM' 'MN' 'MZ' 'MR' 'MQ' 'MU' 'MW' 'MY' 'NA' 'NC' 'NE' 'GN' 'GP'\n",
      " 'GM' 'GW' 'GQ' 'GR' 'GD' 'GL' 'GT' 'GF' 'GY' 'HK' 'HN' 'SC' 'SY' 'TC'\n",
      " 'TD' 'TG' 'TH' 'TJ' 'TM' 'TL' 'TO' 'TT' 'TN' 'NG' 'NI' 'NL' 'SL' 'SV'\n",
      " 'SO' 'PM' 'ST' 'SR' 'SK' 'SI' 'SE' 'SZ' 'PG' 'PL' 'PR' 'PT' 'PY' 'PF'\n",
      " 'QA' 'RE' 'RO' 'RU' 'RW' 'SA' 'CSXX' 'SD' 'PH' 'SN' 'SG' 'SH' 'SB' 'MD'\n",
      " 'MG' 'MV' 'MX' 'MK' 'ML' 'NO' 'NP' 'NZ' 'OM' 'PK' 'PA' 'PE' 'PW' 'LR'\n",
      " 'IAI Area, Africa' 'LC' 'LK' 'LS' 'LT' 'LU' 'LV' 'MO' 'MA' 'GB' 'GE' 'GH'\n",
      " 'GI' 'BW' 'CF' 'CA' 'CH' 'CL' 'CN' 'CI' 'CM' 'CD' 'CG' 'DJ' 'DM' 'DK'\n",
      " 'DO' 'DZ' 'EC' 'EG' 'ER' 'EH' 'ES' 'CK' 'CO' 'KM' 'CV' 'CR' 'CU' 'KY'\n",
      " 'CY' 'CZ' 'DE' 'EE' 'ET' 'FI' 'FJ' 'FK' 'FR' 'FO' 'GA' 'IN' 'IE' 'IR'\n",
      " 'IQ' 'IS' 'IL' 'IT' 'JM' 'JO' 'JP' 'BS' 'BA' 'BY' 'BZ' 'BM' 'BO' 'BR'\n",
      " 'BB' 'BN' 'BT' 'AT' 'AZ' 'BI' 'BE' 'BJ' 'BF' 'BD' 'BG' 'BH' 'HR' 'HT'\n",
      " 'HU' 'ID' 'VC' 'VE' 'VG' 'VN' 'VU' 'WS' 'YE' 'ZA' 'ZM' 'ZW' 'AW' 'AF'\n",
      " 'AO' 'AI' 'AL' 'ANHH' 'AE' 'AR' 'AM' 'AG' 'AU' 'KP' 'TR' 'TW' 'TZ' 'UG'\n",
      " 'UA' 'UY' 'US' 'UZ' 'KI' 'KN' 'KR' 'KW' 'LA' 'LB' 'KZ' 'KE' 'KG' 'KH']\n",
      "['int aviation']\n"
     ]
    }
   ],
   "source": [
    "# In this cell, please add any code you'd like to edit \n",
    "print(merged_df['Region/Regional Scope'].unique())\n",
    "print(removed_rows_df['Region/Regional Scope'].unique())\n"
   ]
  },
  {
   "cell_type": "code",
   "execution_count": 8,
   "metadata": {},
   "outputs": [
    {
     "data": {
      "text/plain": [
       "''"
      ]
     },
     "execution_count": 8,
     "metadata": {},
     "output_type": "execute_result"
    }
   ],
   "source": [
    "input(\"Look through each dataset and adjust any inconsistent values\")\n",
    "\n",
    "\n"
   ]
  },
  {
   "cell_type": "code",
   "execution_count": null,
   "metadata": {},
   "outputs": [],
   "source": []
  },
  {
   "cell_type": "code",
   "execution_count": 9,
   "metadata": {},
   "outputs": [],
   "source": [
    "removed_rows_df.to_csv(\"./%s/%s_further_quarantined.csv\" %(folder_path, folder_path), index=False) \n",
    "merged_df.to_csv(\"./%s/%s.csv\"  %(folder_path, folder_path), index=False)\n"
   ]
  },
  {
   "cell_type": "code",
   "execution_count": 10,
   "metadata": {},
   "outputs": [],
   "source": [
    "shutil.copy(\"./Nationalizer.ipynb\", \"%s\" % folder_path)\n",
    "shutil.move(csv_to_fix, \"%s\" % folder_path)\n",
    "shutil.make_archive(folder_path.split('.')[0], 'zip', folder_path)\n",
    "shutil.rmtree(folder_path)\n"
   ]
  },
  {
   "cell_type": "code",
   "execution_count": null,
   "metadata": {},
   "outputs": [],
   "source": []
  }
 ],
 "metadata": {
  "kernelspec": {
   "display_name": "base",
   "language": "python",
   "name": "python3"
  },
  "language_info": {
   "codemirror_mode": {
    "name": "ipython",
    "version": 3
   },
   "file_extension": ".py",
   "mimetype": "text/x-python",
   "name": "python",
   "nbconvert_exporter": "python",
   "pygments_lexer": "ipython3",
   "version": "3.12.3"
  }
 },
 "nbformat": 4,
 "nbformat_minor": 2
}
